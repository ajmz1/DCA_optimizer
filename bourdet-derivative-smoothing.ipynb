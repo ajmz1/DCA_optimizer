{
 "cells": [
  {
   "cell_type": "markdown",
   "id": "bc641d6d",
   "metadata": {},
   "source": [
    "# Reservoir Engr: Bourdet Derivative for Pressure Transient Analysis (PTA)\n",
    "> **Anthony Jimenez** <br>\n",
    "> *26 August 2021*<br>\n",
    "> [http://www.fa-jimenez.com/](http://www.fa-jimenez.com/)"
   ]
  },
  {
   "cell_type": "markdown",
   "id": "d940fb3f",
   "metadata": {},
   "source": [
    "**This data is sourced from the Society of Petroleum Engineers Data Repository as part of the SPE Bleeding Edge of RTA Group (SPE-BERG).**\n",
    "\n",
    "\n",
    "SPE Data Repository: Data Set: dataset_1, Well Number: all_wells. From URL: https://www.spe.org/datasets/dataset_1/csv_files/dataset_1_all_wells/production_data"
   ]
  },
  {
   "cell_type": "markdown",
   "id": "834e7767",
   "metadata": {},
   "source": [
    "## Import necessary libraries"
   ]
  },
  {
   "cell_type": "code",
   "execution_count": 1,
   "id": "7afc7475",
   "metadata": {},
   "outputs": [],
   "source": [
    "import pandas as pd\n",
    "import numpy as np\n",
    "import plotly.express as px\n",
    "from plotly.subplots import make_subplots\n",
    "import plotly.graph_objects as go\n",
    "from scipy.optimize import differential_evolution"
   ]
  },
  {
   "cell_type": "markdown",
   "id": "4a8f2689",
   "metadata": {},
   "source": [
    "## Load, review, and filter production data\n",
    "Steps accomplished in this section:\n",
    "- Load and review production data with df.head() and df.describe pandas functions.\n",
    "- Identify well with largest history of production data available.\n",
    "- Filter main dataframe to just a single well.\n",
    "- Drop unnecessary columns from analysis.\n",
    "- \"Melt\" dataframe to long-format (will make plotting easier later).\n",
    "\n",
    "**Analysis will be conducted on the LORIKEET well since this has 4031 days of production (DOP)**"
   ]
  },
  {
   "cell_type": "code",
   "execution_count": 6,
   "id": "97b7bf80",
   "metadata": {},
   "outputs": [
    {
     "data": {
      "text/html": [
       "<div>\n",
       "<style scoped>\n",
       "    .dataframe tbody tr th:only-of-type {\n",
       "        vertical-align: middle;\n",
       "    }\n",
       "\n",
       "    .dataframe tbody tr th {\n",
       "        vertical-align: top;\n",
       "    }\n",
       "\n",
       "    .dataframe thead th {\n",
       "        text-align: right;\n",
       "    }\n",
       "</style>\n",
       "<table border=\"1\" class=\"dataframe\">\n",
       "  <thead>\n",
       "    <tr style=\"text-align: right;\">\n",
       "      <th></th>\n",
       "      <th>dt_hr</th>\n",
       "      <th>dp_psi</th>\n",
       "      <th>pD_0.0</th>\n",
       "      <th>pD_0.1</th>\n",
       "      <th>ts_hr</th>\n",
       "    </tr>\n",
       "  </thead>\n",
       "  <tbody>\n",
       "    <tr>\n",
       "      <th>0</th>\n",
       "      <td>0.00417</td>\n",
       "      <td>0.57</td>\n",
       "      <td>4.67619</td>\n",
       "      <td>4.67619</td>\n",
       "      <td>-8.21072</td>\n",
       "    </tr>\n",
       "    <tr>\n",
       "      <th>1</th>\n",
       "      <td>0.00833</td>\n",
       "      <td>3.81</td>\n",
       "      <td>5.99244</td>\n",
       "      <td>5.99244</td>\n",
       "      <td>-7.51785</td>\n",
       "    </tr>\n",
       "    <tr>\n",
       "      <th>2</th>\n",
       "      <td>0.0125</td>\n",
       "      <td>6.55</td>\n",
       "      <td>9.88966</td>\n",
       "      <td>9.88966</td>\n",
       "      <td>-7.11265</td>\n",
       "    </tr>\n",
       "    <tr>\n",
       "      <th>3</th>\n",
       "      <td>0.01667</td>\n",
       "      <td>10.03</td>\n",
       "      <td>13.47654</td>\n",
       "      <td>13.47654</td>\n",
       "      <td>-6.82524</td>\n",
       "    </tr>\n",
       "    <tr>\n",
       "      <th>4</th>\n",
       "      <td>0.02083</td>\n",
       "      <td>13.27</td>\n",
       "      <td>17.11777</td>\n",
       "      <td>17.11777</td>\n",
       "      <td>-6.60237</td>\n",
       "    </tr>\n",
       "    <tr>\n",
       "      <th>...</th>\n",
       "      <td>...</td>\n",
       "      <td>...</td>\n",
       "      <td>...</td>\n",
       "      <td>...</td>\n",
       "      <td>...</td>\n",
       "    </tr>\n",
       "    <tr>\n",
       "      <th>100</th>\n",
       "      <td>25.25</td>\n",
       "      <td>773.99</td>\n",
       "      <td>33.76653</td>\n",
       "      <td>28.71951</td>\n",
       "      <td>-0.47445</td>\n",
       "    </tr>\n",
       "    <tr>\n",
       "      <th>101</th>\n",
       "      <td>26.25</td>\n",
       "      <td>774.49</td>\n",
       "      <td>25.79328</td>\n",
       "      <td>26.18140</td>\n",
       "      <td>-0.45995</td>\n",
       "    </tr>\n",
       "    <tr>\n",
       "      <th>102</th>\n",
       "      <td>27.25</td>\n",
       "      <td>774.73</td>\n",
       "      <td>23.98014</td>\n",
       "      <td>31.10344</td>\n",
       "      <td>-0.44633</td>\n",
       "    </tr>\n",
       "    <tr>\n",
       "      <th>103</th>\n",
       "      <td>28.5</td>\n",
       "      <td>775.23</td>\n",
       "      <td>31.41352</td>\n",
       "      <td>26.52348</td>\n",
       "      <td>-0.43041</td>\n",
       "    </tr>\n",
       "    <tr>\n",
       "      <th>104</th>\n",
       "      <td>28.50000 775.23000 31.41352 26.52348 -0.43041</td>\n",
       "      <td>NaN</td>\n",
       "      <td>NaN</td>\n",
       "      <td>NaN</td>\n",
       "      <td>NaN</td>\n",
       "    </tr>\n",
       "  </tbody>\n",
       "</table>\n",
       "<p>105 rows × 5 columns</p>\n",
       "</div>"
      ],
      "text/plain": [
       "                                              dt_hr  dp_psi    pD_0.0  \\\n",
       "0                                           0.00417    0.57   4.67619   \n",
       "1                                           0.00833    3.81   5.99244   \n",
       "2                                            0.0125    6.55   9.88966   \n",
       "3                                           0.01667   10.03  13.47654   \n",
       "4                                           0.02083   13.27  17.11777   \n",
       "..                                              ...     ...       ...   \n",
       "100                                           25.25  773.99  33.76653   \n",
       "101                                           26.25  774.49  25.79328   \n",
       "102                                           27.25  774.73  23.98014   \n",
       "103                                            28.5  775.23  31.41352   \n",
       "104  28.50000 775.23000 31.41352 26.52348 -0.43041      NaN       NaN   \n",
       "\n",
       "       pD_0.1    ts_hr  \n",
       "0     4.67619 -8.21072  \n",
       "1     5.99244 -7.51785  \n",
       "2     9.88966 -7.11265  \n",
       "3    13.47654 -6.82524  \n",
       "4    17.11777 -6.60237  \n",
       "..        ...      ...  \n",
       "100  28.71951 -0.47445  \n",
       "101  26.18140 -0.45995  \n",
       "102  31.10344 -0.44633  \n",
       "103  26.52348 -0.43041  \n",
       "104       NaN      NaN  \n",
       "\n",
       "[105 rows x 5 columns]"
      ]
     },
     "execution_count": 6,
     "metadata": {},
     "output_type": "execute_result"
    }
   ],
   "source": [
    "# Load in data\n",
    "df_url = r'https://raw.githubusercontent.com/ajmz1/DCA_optimizer/master/bourdet-buildup-2.csv'\n",
    "df = pd.read_csv(df_url)\n",
    "df"
   ]
  },
  {
   "cell_type": "code",
   "execution_count": 4,
   "id": "ac5bf604",
   "metadata": {},
   "outputs": [
    {
     "data": {
      "text/plain": [
       "0.004999999999999999"
      ]
     },
     "execution_count": 4,
     "metadata": {},
     "output_type": "execute_result"
    }
   ],
   "source": [
    "x1 = 1e-2\n",
    "x2 = 1.5e-2\n",
    "x2-x1"
   ]
  },
  {
   "cell_type": "code",
   "execution_count": 5,
   "id": "bdc45669",
   "metadata": {},
   "outputs": [
    {
     "data": {
      "text/plain": [
       "0.4054651081081637"
      ]
     },
     "execution_count": 5,
     "metadata": {},
     "output_type": "execute_result"
    }
   ],
   "source": [
    "np.log(x2) - np.log(x1)"
   ]
  },
  {
   "cell_type": "code",
   "execution_count": null,
   "id": "83f800ad",
   "metadata": {},
   "outputs": [],
   "source": []
  },
  {
   "cell_type": "code",
   "execution_count": null,
   "id": "b79f1d51",
   "metadata": {},
   "outputs": [],
   "source": []
  },
  {
   "cell_type": "code",
   "execution_count": null,
   "id": "cce91a31",
   "metadata": {},
   "outputs": [],
   "source": []
  },
  {
   "cell_type": "code",
   "execution_count": null,
   "id": "d6898925",
   "metadata": {},
   "outputs": [],
   "source": []
  },
  {
   "cell_type": "code",
   "execution_count": null,
   "id": "ac13e07b",
   "metadata": {},
   "outputs": [],
   "source": []
  },
  {
   "cell_type": "code",
   "execution_count": null,
   "id": "c3e503dd",
   "metadata": {},
   "outputs": [],
   "source": []
  },
  {
   "cell_type": "code",
   "execution_count": null,
   "id": "4786b8b6",
   "metadata": {},
   "outputs": [],
   "source": []
  },
  {
   "cell_type": "code",
   "execution_count": null,
   "id": "5d8aae85",
   "metadata": {},
   "outputs": [],
   "source": []
  },
  {
   "cell_type": "code",
   "execution_count": null,
   "id": "1629d3bb",
   "metadata": {},
   "outputs": [],
   "source": []
  },
  {
   "cell_type": "code",
   "execution_count": null,
   "id": "f175ba93",
   "metadata": {},
   "outputs": [],
   "source": []
  },
  {
   "cell_type": "code",
   "execution_count": null,
   "id": "9d833d67",
   "metadata": {},
   "outputs": [],
   "source": []
  },
  {
   "cell_type": "code",
   "execution_count": null,
   "id": "64900014",
   "metadata": {},
   "outputs": [],
   "source": []
  }
 ],
 "metadata": {
  "kernelspec": {
   "display_name": "Python 3",
   "language": "python",
   "name": "python3"
  },
  "language_info": {
   "codemirror_mode": {
    "name": "ipython",
    "version": 3
   },
   "file_extension": ".py",
   "mimetype": "text/x-python",
   "name": "python",
   "nbconvert_exporter": "python",
   "pygments_lexer": "ipython3",
   "version": "3.8.8"
  }
 },
 "nbformat": 4,
 "nbformat_minor": 5
}
