{
 "cells": [
  {
   "cell_type": "markdown",
   "id": "8590fe0c",
   "metadata": {},
   "source": [
    "# Reservoir Engr: Bourdet Derivative for Pressure Transient Analysis (PTA)\n",
    "> **Anthony Jimenez** <br>\n",
    "> *26 August 2021*<br>\n",
    "> [http://www.fa-jimenez.com/](http://www.fa-jimenez.com/)"
   ]
  },
  {
   "cell_type": "markdown",
   "id": "f4c23a08",
   "metadata": {},
   "source": [
    "**This data is sourced from the Society of Petroleum Engineers Data Repository as part of the SPE Bleeding Edge of RTA Group (SPE-BERG).**\n",
    "\n",
    "\n",
    "SPE Data Repository: Data Set: dataset_1, Well Number: all_wells. From URL: https://www.spe.org/datasets/dataset_1/csv_files/dataset_1_all_wells/production_data"
   ]
  },
  {
   "cell_type": "markdown",
   "id": "58f07ad4",
   "metadata": {},
   "source": [
    "## Import necessary libraries"
   ]
  },
  {
   "cell_type": "code",
   "execution_count": 1,
   "id": "f3efbdcb",
   "metadata": {},
   "outputs": [],
   "source": [
    "import pandas as pd\n",
    "import numpy as np\n",
    "import plotly.express as px\n",
    "from plotly.subplots import make_subplots\n",
    "import plotly.graph_objects as go\n",
    "from scipy.optimize import differential_evolution"
   ]
  },
  {
   "cell_type": "markdown",
   "id": "9ee6f111",
   "metadata": {},
   "source": [
    "## Load, review, and filter production data\n",
    "Steps accomplished in this section:\n",
    "- Load and review production data with df.head() and df.describe pandas functions.\n",
    "- Identify well with largest history of production data available.\n",
    "- Filter main dataframe to just a single well.\n",
    "- Drop unnecessary columns from analysis.\n",
    "- \"Melt\" dataframe to long-format (will make plotting easier later).\n",
    "\n",
    "**Analysis will be conducted on the LORIKEET well since this has 4031 days of production (DOP)**"
   ]
  },
  {
   "cell_type": "code",
   "execution_count": 2,
   "id": "bc5646a3",
   "metadata": {},
   "outputs": [
    {
     "data": {
      "text/html": [
       "<div>\n",
       "<style scoped>\n",
       "    .dataframe tbody tr th:only-of-type {\n",
       "        vertical-align: middle;\n",
       "    }\n",
       "\n",
       "    .dataframe tbody tr th {\n",
       "        vertical-align: top;\n",
       "    }\n",
       "\n",
       "    .dataframe thead th {\n",
       "        text-align: right;\n",
       "    }\n",
       "</style>\n",
       "<table border=\"1\" class=\"dataframe\">\n",
       "  <thead>\n",
       "    <tr style=\"text-align: right;\">\n",
       "      <th></th>\n",
       "      <th>Lease</th>\n",
       "      <th>Time (Days)</th>\n",
       "      <th>Choke Size</th>\n",
       "      <th>Gas Volume (MMscf)</th>\n",
       "      <th>Oil Volume (stb)</th>\n",
       "      <th>Water Volume  (stb)</th>\n",
       "      <th>Gas Lift Inj Volume  (MMscf)</th>\n",
       "      <th>Casing Pressure  (psi(a))</th>\n",
       "      <th>Tubing Pressure  (psi(a))</th>\n",
       "      <th>Active Pressure  (psi(a))</th>\n",
       "      <th>Line Pressure  (psi(a))</th>\n",
       "      <th>Pressure Source</th>\n",
       "      <th>Calculated Sandface Pressure  (psi(a))</th>\n",
       "    </tr>\n",
       "  </thead>\n",
       "  <tbody>\n",
       "    <tr>\n",
       "      <th>0</th>\n",
       "      <td>OSPREY</td>\n",
       "      <td>1.0</td>\n",
       "      <td>NaN</td>\n",
       "      <td>0.145</td>\n",
       "      <td>504.39</td>\n",
       "      <td>718.0</td>\n",
       "      <td>NaN</td>\n",
       "      <td>2064.695943</td>\n",
       "      <td>14.695943</td>\n",
       "      <td>2064.695943</td>\n",
       "      <td>14.695943</td>\n",
       "      <td>Casing Pressure</td>\n",
       "      <td>5050.159793</td>\n",
       "    </tr>\n",
       "    <tr>\n",
       "      <th>1</th>\n",
       "      <td>OSPREY</td>\n",
       "      <td>2.0</td>\n",
       "      <td>NaN</td>\n",
       "      <td>0.186</td>\n",
       "      <td>564.76</td>\n",
       "      <td>922.0</td>\n",
       "      <td>NaN</td>\n",
       "      <td>1989.695943</td>\n",
       "      <td>14.695943</td>\n",
       "      <td>1989.695943</td>\n",
       "      <td>14.695943</td>\n",
       "      <td>Casing Pressure</td>\n",
       "      <td>5009.599839</td>\n",
       "    </tr>\n",
       "    <tr>\n",
       "      <th>2</th>\n",
       "      <td>OSPREY</td>\n",
       "      <td>3.0</td>\n",
       "      <td>NaN</td>\n",
       "      <td>0.231</td>\n",
       "      <td>653.51</td>\n",
       "      <td>753.0</td>\n",
       "      <td>NaN</td>\n",
       "      <td>1864.695943</td>\n",
       "      <td>14.695943</td>\n",
       "      <td>1864.695943</td>\n",
       "      <td>14.695943</td>\n",
       "      <td>Casing Pressure</td>\n",
       "      <td>4795.991972</td>\n",
       "    </tr>\n",
       "    <tr>\n",
       "      <th>3</th>\n",
       "      <td>OSPREY</td>\n",
       "      <td>4.0</td>\n",
       "      <td>NaN</td>\n",
       "      <td>0.268</td>\n",
       "      <td>740.71</td>\n",
       "      <td>700.0</td>\n",
       "      <td>NaN</td>\n",
       "      <td>1814.695943</td>\n",
       "      <td>14.695943</td>\n",
       "      <td>1814.695943</td>\n",
       "      <td>14.695943</td>\n",
       "      <td>Casing Pressure</td>\n",
       "      <td>4696.626023</td>\n",
       "    </tr>\n",
       "    <tr>\n",
       "      <th>4</th>\n",
       "      <td>OSPREY</td>\n",
       "      <td>5.0</td>\n",
       "      <td>NaN</td>\n",
       "      <td>0.261</td>\n",
       "      <td>678.06</td>\n",
       "      <td>530.0</td>\n",
       "      <td>NaN</td>\n",
       "      <td>1714.695943</td>\n",
       "      <td>14.695943</td>\n",
       "      <td>1714.695943</td>\n",
       "      <td>14.695943</td>\n",
       "      <td>Casing Pressure</td>\n",
       "      <td>4546.990059</td>\n",
       "    </tr>\n",
       "  </tbody>\n",
       "</table>\n",
       "</div>"
      ],
      "text/plain": [
       "    Lease  Time (Days)  Choke Size  Gas Volume (MMscf)  Oil Volume (stb)  \\\n",
       "0  OSPREY          1.0         NaN               0.145            504.39   \n",
       "1  OSPREY          2.0         NaN               0.186            564.76   \n",
       "2  OSPREY          3.0         NaN               0.231            653.51   \n",
       "3  OSPREY          4.0         NaN               0.268            740.71   \n",
       "4  OSPREY          5.0         NaN               0.261            678.06   \n",
       "\n",
       "   Water Volume  (stb)  Gas Lift Inj Volume  (MMscf)  \\\n",
       "0                718.0                           NaN   \n",
       "1                922.0                           NaN   \n",
       "2                753.0                           NaN   \n",
       "3                700.0                           NaN   \n",
       "4                530.0                           NaN   \n",
       "\n",
       "   Casing Pressure  (psi(a))  Tubing Pressure  (psi(a))  \\\n",
       "0                2064.695943                  14.695943   \n",
       "1                1989.695943                  14.695943   \n",
       "2                1864.695943                  14.695943   \n",
       "3                1814.695943                  14.695943   \n",
       "4                1714.695943                  14.695943   \n",
       "\n",
       "   Active Pressure  (psi(a))  Line Pressure  (psi(a)) Pressure Source   \\\n",
       "0                2064.695943                14.695943  Casing Pressure   \n",
       "1                1989.695943                14.695943  Casing Pressure   \n",
       "2                1864.695943                14.695943  Casing Pressure   \n",
       "3                1814.695943                14.695943  Casing Pressure   \n",
       "4                1714.695943                14.695943  Casing Pressure   \n",
       "\n",
       "   Calculated Sandface Pressure  (psi(a))  \n",
       "0                             5050.159793  \n",
       "1                             5009.599839  \n",
       "2                             4795.991972  \n",
       "3                             4696.626023  \n",
       "4                             4546.990059  "
      ]
     },
     "execution_count": 2,
     "metadata": {},
     "output_type": "execute_result"
    }
   ],
   "source": [
    "# Load in data\n",
    "prod_data_url = r'https://raw.githubusercontent.com/ajmz1/DCA_optimizer/master/20210818_spe_rta_prod_data.csv'\n",
    "df = pd.read_csv(prod_data_url)\n",
    "df.head()\n",
    "\n",
    "df_url = r''"
   ]
  },
  {
   "cell_type": "code",
   "execution_count": 4,
   "id": "1b2a60c1",
   "metadata": {},
   "outputs": [
    {
     "data": {
      "text/plain": [
       "0.004999999999999999"
      ]
     },
     "execution_count": 4,
     "metadata": {},
     "output_type": "execute_result"
    }
   ],
   "source": [
    "x1 = 1e-2\n",
    "x2 = 1.5e-2\n",
    "x2-x1"
   ]
  },
  {
   "cell_type": "code",
   "execution_count": 5,
   "id": "939881f6",
   "metadata": {},
   "outputs": [
    {
     "data": {
      "text/plain": [
       "0.4054651081081637"
      ]
     },
     "execution_count": 5,
     "metadata": {},
     "output_type": "execute_result"
    }
   ],
   "source": [
    "np.log(x2) - np.log(x1)"
   ]
  },
  {
   "cell_type": "code",
   "execution_count": null,
   "id": "7657058d",
   "metadata": {},
   "outputs": [],
   "source": []
  },
  {
   "cell_type": "code",
   "execution_count": null,
   "id": "0363a4c5",
   "metadata": {},
   "outputs": [],
   "source": []
  },
  {
   "cell_type": "code",
   "execution_count": null,
   "id": "fd18a6ee",
   "metadata": {},
   "outputs": [],
   "source": []
  },
  {
   "cell_type": "code",
   "execution_count": null,
   "id": "db549563",
   "metadata": {},
   "outputs": [],
   "source": []
  },
  {
   "cell_type": "code",
   "execution_count": null,
   "id": "4a0bb28f",
   "metadata": {},
   "outputs": [],
   "source": []
  },
  {
   "cell_type": "code",
   "execution_count": null,
   "id": "1112c942",
   "metadata": {},
   "outputs": [],
   "source": []
  },
  {
   "cell_type": "code",
   "execution_count": null,
   "id": "c96fb817",
   "metadata": {},
   "outputs": [],
   "source": []
  },
  {
   "cell_type": "code",
   "execution_count": null,
   "id": "16c620e0",
   "metadata": {},
   "outputs": [],
   "source": []
  },
  {
   "cell_type": "code",
   "execution_count": null,
   "id": "e46fe0ce",
   "metadata": {},
   "outputs": [],
   "source": []
  },
  {
   "cell_type": "code",
   "execution_count": null,
   "id": "65520c9a",
   "metadata": {},
   "outputs": [],
   "source": []
  },
  {
   "cell_type": "code",
   "execution_count": null,
   "id": "a72fafd1",
   "metadata": {},
   "outputs": [],
   "source": []
  },
  {
   "cell_type": "code",
   "execution_count": null,
   "id": "b01e51fb",
   "metadata": {},
   "outputs": [],
   "source": []
  }
 ],
 "metadata": {
  "kernelspec": {
   "display_name": "Python 3",
   "language": "python",
   "name": "python3"
  },
  "language_info": {
   "codemirror_mode": {
    "name": "ipython",
    "version": 3
   },
   "file_extension": ".py",
   "mimetype": "text/x-python",
   "name": "python",
   "nbconvert_exporter": "python",
   "pygments_lexer": "ipython3",
   "version": "3.8.8"
  }
 },
 "nbformat": 4,
 "nbformat_minor": 5
}
